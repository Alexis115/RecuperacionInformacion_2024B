{
  "cells": [
    {
      "metadata": {
        "id": "7266022d411c887f"
      },
      "cell_type": "markdown",
      "source": [
        "# Ejercicio 01: Recuperación de Información Basado en el Modelo de Matriz Término-Documento\n",
        "\n",
        "En este ejercicio, trabajaremos con un corpus de documentos en formato JSON para implementar un sistema de Recuperación de Información basado en el modelo de espacio vectorial. Seguirás los siguientes pasos:"
      ],
      "id": "7266022d411c887f"
    },
    {
      "metadata": {
        "id": "b20440e0de103cf3"
      },
      "cell_type": "markdown",
      "source": [
        "## Paso 1: Determinar un vocabulario\n",
        "El primer paso es cargar el corpus en formato JSON, extraer los textos de los documentos y crear el vocabulario."
      ],
      "id": "b20440e0de103cf3"
    },
    {
      "cell_type": "code",
      "id": "initial_id",
      "metadata": {
        "collapsed": true,
        "ExecuteTime": {
          "end_time": "2024-10-22T12:22:34.639750Z",
          "start_time": "2024-10-22T12:22:34.631518Z"
        },
        "id": "initial_id"
      },
      "source": [
        "import json\n",
        "\n",
        "datos = []\n",
        "with open(file='/content/data/01tdmatrix_corpus.json', mode='r', encoding='utf-8') as file:\n",
        "    datos = json.load(file)"
      ],
      "outputs": [],
      "execution_count": 4
    },
    {
      "metadata": {
        "ExecuteTime": {
          "end_time": "2024-10-22T12:28:42.503285Z",
          "start_time": "2024-10-22T12:28:42.487436Z"
        },
        "colab": {
          "base_uri": "https://localhost:8080/"
        },
        "id": "1cad34a871eac562",
        "outputId": "854b6fe5-910e-40b5-ccbb-6c672864379f"
      },
      "cell_type": "code",
      "source": [
        "print(datos[0]['text'].lower())"
      ],
      "id": "1cad34a871eac562",
      "outputs": [
        {
          "output_type": "stream",
          "name": "stdout",
          "text": [
            "la inteligencia artificial continúa avanzando rápidamente, transformando sectores como la salud y las finanzas. las empresas están adoptando algoritmos de aprendizaje automático para mejorar la eficiencia. sin embargo, el desafío principal sigue siendo garantizar que las decisiones basadas en datos sean justas y no perpetúen sesgos. la ética es fundamental en este contexto.\n"
          ]
        }
      ],
      "execution_count": 5
    },
    {
      "metadata": {
        "ExecuteTime": {
          "end_time": "2024-10-22T12:29:11.334724Z",
          "start_time": "2024-10-22T12:29:11.319181Z"
        },
        "colab": {
          "base_uri": "https://localhost:8080/"
        },
        "id": "186d5925bdd633b0",
        "outputId": "44cbcab2-4a89-43c0-996c-5013b373f787"
      },
      "cell_type": "code",
      "source": [
        "print(datos[0]['text'].lower().split())"
      ],
      "id": "186d5925bdd633b0",
      "outputs": [
        {
          "output_type": "stream",
          "name": "stdout",
          "text": [
            "['la', 'inteligencia', 'artificial', 'continúa', 'avanzando', 'rápidamente,', 'transformando', 'sectores', 'como', 'la', 'salud', 'y', 'las', 'finanzas.', 'las', 'empresas', 'están', 'adoptando', 'algoritmos', 'de', 'aprendizaje', 'automático', 'para', 'mejorar', 'la', 'eficiencia.', 'sin', 'embargo,', 'el', 'desafío', 'principal', 'sigue', 'siendo', 'garantizar', 'que', 'las', 'decisiones', 'basadas', 'en', 'datos', 'sean', 'justas', 'y', 'no', 'perpetúen', 'sesgos.', 'la', 'ética', 'es', 'fundamental', 'en', 'este', 'contexto.']\n"
          ]
        }
      ],
      "execution_count": 6
    },
    {
      "metadata": {
        "ExecuteTime": {
          "end_time": "2024-10-22T12:29:44.074040Z",
          "start_time": "2024-10-22T12:29:44.059539Z"
        },
        "colab": {
          "base_uri": "https://localhost:8080/"
        },
        "id": "63b4fbc92a3a663d",
        "outputId": "d6c6333d-1a6a-43f8-ec7d-3fa105995bb0"
      },
      "cell_type": "code",
      "source": [
        "vocab = set(datos[0]['text'].lower().split())\n",
        "print(vocab)\n",
        "print(len(vocab))"
      ],
      "id": "63b4fbc92a3a663d",
      "outputs": [
        {
          "output_type": "stream",
          "name": "stdout",
          "text": [
            "{'garantizar', 'decisiones', 'fundamental', 'sean', 'basadas', 'transformando', 'eficiencia.', 'en', 'mejorar', 'sin', 'principal', 'salud', 'ética', 'empresas', 'artificial', 'es', 'avanzando', 'adoptando', 'como', 'sigue', 'este', 'desafío', 'para', 'la', 'de', 'continúa', 'aprendizaje', 'inteligencia', 'justas', 'datos', 'las', 'embargo,', 'rápidamente,', 'el', 'que', 'siendo', 'finanzas.', 'no', 'sesgos.', 'contexto.', 'automático', 'y', 'sectores', 'están', 'perpetúen', 'algoritmos'}\n",
            "46\n"
          ]
        }
      ],
      "execution_count": 7
    },
    {
      "metadata": {
        "ExecuteTime": {
          "end_time": "2024-10-22T12:36:39.293698Z",
          "start_time": "2024-10-22T12:36:39.280871Z"
        },
        "colab": {
          "base_uri": "https://localhost:8080/"
        },
        "id": "5eded2ae4aeba3e2",
        "outputId": "276ed722-d528-4796-8359-c00447818f92"
      },
      "cell_type": "code",
      "source": [
        "vocab = []\n",
        "for i in range(0,len(datos)):\n",
        "    vocab.extend(datos[i]['text'].lower().replace(',','').replace('.','').split())\n",
        "\n",
        "vocab = set(vocab)\n",
        "print(len(vocab))\n",
        "print(vocab)"
      ],
      "id": "5eded2ae4aeba3e2",
      "outputs": [
        {
          "output_type": "stream",
          "name": "stdout",
          "text": [
            "230\n",
            "{'garantizar', 'decisiones', 'pueden', 'también', 'enfermedades', 'transformando', 'vez', 'acceder', 'acceso', 'cuándo', 'reflexionar', 'mundos', 'distancia', 'sino', 'años', 'bienestar', 'personalizados', 'experiencia', 'enfoque', 'visuales', 'evolucionado', 'sigue', 'muchas', 'trabajos', 'libros', 'además', 'hábitos', 'un', 'transacciones', 'democratizando', 'cómo', 'convertido', 'contexto', 'inteligencia', 'producciones', 'consume', 'dispositivos', 'efectos', 'diagnostican', 'que', 'importar', 'mayores', 'y', 'consumidores', 'perpetúen', 'ofrecer', 'algoritmos', 'facilitando', 'temas', 'mejores', 'personalizadas', 'sean', 'prioridad', 'nivel', 'cuidados', 'eficiencia', 'promueven', 'e-sports', 'invita', 'ahora', 'en', 'crecimiento', 'sin', 'principal', 'recomendaciones', 'salud', 'literarios', 'tratan', 'nuevo', 'artificial', 'avanzando', 'alcanzado', 'electrónico', 'profesionales', 'pagos', 'accesibles', 'otros', 'sobre', 'tecnologías', 'para', 'siguen', 'digitales', 'nuevas', 'avanzadas', 'real', 'géneros', 'programas', 'con', 'ha', 'compras', 'tiempo', 'compramos', 'optimizando', 'usuario', 'donde', 'interacción', 'vida', 'atraen', 'datos', 'futuro', 'una', 'reto', 'integral', 'realistas', 'el', 'beneficios', 'embargo', 'demanda', 'impulsa', 'prometedor', 'rápidamente', 'inmersivos', 'tecnología', 'educación', 'ciencia', 'incorporando', 'jugadores', 'desde', 'portátiles', 'desafían', 'individual', 'mercado', 'médicos', 'basadas', 'sesgos', 'aquellos', 'contenido', 'ficción', 'habilidades', 'telemedicina', 'experiencias', 'ética', 'empresas', 'medicina', 'aumento', 'permitiendo', 'humanidad', 'cinematográficas', 'llevado', 'adoptando', 'como', 'tecnológicos', 'línea', 'virtuales', 'falta', 'solo', 'aumentada', 'permitido', 'streaming', 'entretiene', 'desafío', 'la', 'interactuar', 'aplicaciones', 'calidad', 'especialmente', 'buscan', 'crear', 'utilizan', 'personas', 'se', 'competencias', 'plataformas', 'personal', 'espectadores', 'no', 'siendo', 'escenas', 'más', 'viaje', 'educativa', 'sectores', 'están', 'cine', 'millones', 'cursos', 'realidad', 'uno', 'aunque', 'flexibilidad', 'avances', 'populares', 'cada', 'fundamental', 'diarias', 'películas', 'eficaces', 'cambiando', 'mejorar', 'finanzas', 'explorando', 'adopción', 'presencial', 'monitorean', 'ubicación', 'es', 'hasta', 'género', 'series', 'desarrollo', 'completo', 'implicaciones', 'mundo', 'mejorando', 'de', 'continúa', 'aprendizaje', 'sus', 'los', 'está', 'todo', 'justas', 'cambiado', 'herramientas', 'tratamientos', 'creciente', 'las', 'estudiantes', 'a', 'su', 'planetas', 'forma', 'transformado', 'automático', 'comercio', 'público', 'este', 'rápidos', 'saludables', 'videojuegos'}\n"
          ]
        }
      ],
      "execution_count": 8
    },
    {
      "metadata": {
        "id": "549d0d8b6f7ed0a2"
      },
      "cell_type": "markdown",
      "source": [
        "## Paso 2: Calcular una matriz término-documento\n",
        "Una vez que tenemos el vocabulario, el siguiente paso es construir una **matriz término-documento**, que nos permitirá representar cada documento como un vector en el espacio de términos."
      ],
      "id": "549d0d8b6f7ed0a2"
    },
    {
      "metadata": {
        "ExecuteTime": {
          "end_time": "2024-10-22T13:00:04.977448Z",
          "start_time": "2024-10-22T13:00:04.961452Z"
        },
        "id": "4b35c2996c774ec2"
      },
      "cell_type": "code",
      "source": [
        "def tdtransform(text):\n",
        "    doc = []\n",
        "    for word in vocab:\n",
        "        if word in text.lower().replace(',','').replace('.','').split():\n",
        "           doc.append(1)\n",
        "        else:\n",
        "            doc.append(0)\n",
        "    return doc"
      ],
      "id": "4b35c2996c774ec2",
      "outputs": [],
      "execution_count": 9
    },
    {
      "metadata": {
        "ExecuteTime": {
          "end_time": "2024-10-22T13:00:30.419629Z",
          "start_time": "2024-10-22T13:00:30.382836Z"
        },
        "colab": {
          "base_uri": "https://localhost:8080/"
        },
        "id": "1b052a6cd19731a5",
        "outputId": "935c1921-920b-438c-86c5-cc527abd0f12"
      },
      "cell_type": "code",
      "source": [
        "tdmatrix = []\n",
        "for i in range(0,len(datos)):\n",
        "    doc = tdtransform(text=datos[i]['text'])\n",
        "    tdmatrix.append(doc)\n",
        "\n",
        "print(tdmatrix)"
      ],
      "id": "1b052a6cd19731a5",
      "outputs": [
        {
          "output_type": "stream",
          "name": "stdout",
          "text": [
            "[[1, 1, 0, 0, 0, 1, 0, 0, 0, 0, 0, 0, 0, 0, 0, 0, 0, 0, 0, 0, 0, 1, 0, 0, 0, 0, 0, 0, 0, 0, 0, 0, 1, 1, 0, 0, 0, 0, 0, 1, 0, 0, 1, 0, 1, 0, 1, 0, 0, 0, 0, 1, 0, 0, 0, 1, 0, 0, 0, 0, 1, 0, 1, 1, 0, 1, 0, 0, 0, 1, 1, 0, 0, 0, 0, 0, 0, 0, 0, 1, 0, 0, 0, 0, 0, 0, 0, 0, 0, 0, 0, 0, 0, 0, 0, 0, 0, 0, 1, 0, 0, 0, 0, 0, 1, 0, 1, 0, 0, 0, 1, 0, 0, 0, 0, 0, 0, 0, 0, 0, 0, 0, 0, 1, 1, 0, 0, 0, 0, 0, 0, 1, 1, 0, 0, 0, 0, 0, 0, 1, 1, 0, 0, 0, 0, 0, 0, 0, 0, 0, 1, 1, 0, 0, 0, 0, 0, 0, 0, 0, 0, 0, 0, 0, 0, 1, 1, 0, 0, 0, 0, 1, 1, 0, 0, 0, 0, 0, 0, 0, 0, 0, 0, 1, 0, 0, 0, 0, 1, 1, 0, 0, 0, 0, 0, 1, 0, 0, 0, 0, 0, 0, 0, 0, 1, 1, 1, 0, 0, 0, 0, 1, 0, 0, 0, 0, 1, 0, 0, 0, 0, 0, 0, 1, 0, 0, 1, 0, 0, 0], [0, 0, 1, 1, 0, 0, 0, 0, 0, 0, 0, 1, 0, 0, 0, 0, 0, 0, 0, 0, 0, 0, 0, 0, 0, 0, 0, 1, 0, 0, 0, 0, 0, 1, 0, 0, 0, 0, 0, 0, 0, 0, 1, 0, 0, 0, 0, 0, 0, 0, 0, 0, 0, 1, 0, 0, 0, 1, 0, 1, 1, 1, 0, 0, 0, 0, 0, 0, 1, 1, 0, 1, 0, 1, 0, 0, 0, 0, 1, 0, 0, 0, 0, 0, 0, 0, 0, 1, 1, 0, 0, 0, 0, 0, 1, 0, 0, 1, 0, 0, 0, 0, 0, 0, 1, 0, 0, 0, 1, 0, 0, 1, 0, 0, 0, 0, 1, 0, 0, 0, 0, 1, 0, 0, 0, 0, 0, 0, 0, 0, 0, 0, 0, 0, 0, 0, 0, 0, 0, 0, 1, 0, 0, 1, 0, 0, 1, 0, 0, 0, 0, 1, 1, 0, 0, 0, 0, 0, 0, 0, 0, 1, 0, 0, 1, 0, 0, 0, 1, 0, 0, 0, 0, 0, 1, 0, 1, 0, 0, 0, 0, 0, 0, 0, 0, 0, 0, 0, 0, 0, 0, 0, 0, 0, 0, 0, 0, 0, 0, 1, 0, 0, 1, 0, 1, 0, 0, 0, 1, 0, 1, 0, 0, 0, 0, 0, 1, 0, 1, 0, 0, 0, 0, 0, 0, 0, 1, 0, 0, 1], [0, 0, 0, 0, 0, 0, 0, 0, 0, 0, 0, 0, 0, 0, 0, 0, 0, 0, 0, 0, 0, 0, 0, 0, 0, 0, 0, 0, 1, 0, 0, 0, 0, 0, 0, 0, 0, 0, 0, 1, 0, 0, 0, 1, 0, 1, 0, 1, 0, 1, 1, 0, 0, 0, 0, 0, 0, 0, 0, 0, 1, 0, 0, 0, 1, 0, 0, 0, 0, 0, 0, 0, 1, 0, 1, 0, 0, 0, 0, 1, 1, 1, 0, 0, 0, 0, 0, 1, 1, 1, 0, 1, 1, 1, 0, 0, 0, 0, 0, 0, 0, 0, 0, 0, 1, 0, 0, 1, 0, 0, 0, 0, 1, 0, 0, 0, 0, 1, 0, 0, 0, 0, 0, 0, 0, 0, 0, 0, 0, 0, 1, 0, 1, 0, 0, 0, 0, 0, 0, 0, 0, 0, 1, 0, 0, 0, 0, 0, 0, 0, 0, 1, 0, 0, 0, 0, 0, 0, 0, 0, 0, 0, 1, 0, 0, 0, 0, 0, 0, 0, 0, 0, 1, 0, 0, 0, 0, 0, 0, 0, 1, 0, 0, 0, 1, 0, 0, 0, 0, 0, 0, 0, 0, 0, 0, 0, 1, 0, 0, 0, 0, 0, 0, 0, 1, 0, 0, 1, 1, 0, 0, 0, 1, 0, 0, 1, 1, 0, 0, 0, 0, 1, 0, 0, 1, 0, 0, 1, 0, 0], [0, 0, 0, 0, 0, 0, 0, 1, 0, 0, 0, 0, 1, 0, 0, 0, 0, 1, 0, 0, 0, 0, 0, 1, 0, 0, 0, 1, 0, 0, 0, 0, 0, 0, 0, 0, 0, 0, 0, 0, 1, 1, 0, 0, 0, 0, 0, 0, 0, 0, 0, 0, 0, 0, 0, 0, 0, 0, 0, 0, 0, 0, 1, 0, 0, 0, 0, 0, 0, 0, 0, 0, 0, 0, 0, 0, 0, 0, 0, 1, 1, 1, 0, 0, 0, 0, 1, 1, 1, 0, 1, 0, 0, 0, 0, 1, 0, 0, 0, 0, 0, 1, 0, 0, 0, 1, 0, 0, 0, 0, 0, 0, 0, 1, 0, 0, 0, 0, 0, 0, 0, 0, 0, 0, 0, 1, 0, 0, 0, 0, 0, 0, 0, 0, 0, 0, 0, 0, 0, 0, 0, 0, 0, 0, 1, 0, 0, 1, 0, 0, 0, 1, 0, 0, 1, 1, 0, 0, 0, 0, 0, 0, 0, 0, 0, 0, 0, 0, 0, 0, 1, 0, 0, 0, 1, 0, 0, 1, 1, 1, 0, 0, 0, 0, 0, 0, 0, 0, 0, 0, 0, 0, 1, 0, 1, 1, 0, 0, 0, 0, 1, 0, 0, 1, 1, 0, 0, 0, 1, 0, 0, 0, 0, 1, 0, 0, 1, 1, 1, 1, 0, 0, 0, 0, 0, 0, 0, 0, 0, 0], [0, 0, 0, 0, 0, 0, 1, 0, 1, 1, 0, 0, 0, 0, 1, 0, 0, 0, 0, 1, 1, 0, 0, 0, 0, 1, 0, 0, 0, 1, 1, 0, 0, 0, 1, 1, 0, 1, 0, 1, 0, 0, 1, 0, 0, 0, 0, 0, 0, 0, 0, 0, 0, 0, 0, 0, 0, 0, 0, 0, 0, 0, 0, 0, 0, 0, 0, 0, 0, 0, 0, 0, 0, 0, 0, 0, 0, 0, 1, 1, 0, 0, 0, 1, 0, 0, 0, 1, 1, 0, 0, 0, 0, 0, 0, 0, 0, 0, 0, 0, 0, 0, 0, 1, 1, 0, 0, 0, 0, 0, 0, 0, 0, 0, 0, 1, 0, 0, 0, 1, 0, 0, 0, 0, 0, 0, 1, 0, 0, 0, 0, 0, 0, 0, 0, 0, 0, 1, 0, 0, 0, 0, 0, 0, 0, 0, 0, 0, 1, 0, 0, 1, 0, 0, 0, 0, 0, 1, 1, 0, 0, 0, 1, 0, 0, 0, 0, 1, 1, 0, 0, 0, 0, 1, 0, 0, 1, 0, 0, 0, 0, 0, 1, 0, 0, 1, 0, 0, 0, 0, 0, 0, 0, 0, 0, 0, 0, 0, 1, 0, 0, 0, 0, 0, 1, 0, 0, 0, 1, 0, 0, 0, 0, 0, 0, 0, 1, 0, 1, 0, 0, 0, 1, 0, 0, 1, 0, 0, 0, 0], [0, 0, 0, 1, 0, 0, 0, 0, 0, 0, 1, 0, 0, 1, 0, 0, 0, 0, 0, 0, 0, 0, 0, 0, 0, 0, 0, 0, 0, 0, 0, 0, 0, 1, 0, 0, 0, 0, 0, 1, 0, 0, 1, 0, 0, 0, 0, 0, 1, 0, 0, 0, 0, 0, 0, 0, 0, 0, 1, 0, 1, 0, 0, 0, 0, 0, 1, 0, 0, 1, 0, 0, 0, 0, 0, 0, 1, 1, 0, 0, 0, 0, 0, 0, 0, 1, 0, 0, 0, 0, 1, 0, 0, 0, 0, 0, 1, 0, 0, 1, 0, 0, 0, 0, 1, 0, 0, 0, 0, 0, 0, 0, 0, 0, 1, 0, 0, 0, 0, 0, 0, 0, 0, 0, 0, 0, 0, 1, 0, 0, 0, 0, 0, 0, 0, 0, 1, 0, 0, 0, 1, 1, 0, 0, 0, 1, 0, 0, 0, 1, 0, 1, 0, 0, 0, 0, 0, 0, 0, 0, 0, 0, 0, 0, 0, 1, 0, 0, 1, 1, 0, 0, 0, 0, 0, 0, 0, 1, 0, 0, 1, 1, 0, 0, 0, 0, 0, 0, 0, 0, 1, 0, 0, 0, 0, 1, 0, 1, 0, 0, 0, 1, 0, 0, 1, 0, 0, 0, 1, 0, 0, 0, 0, 0, 0, 0, 1, 0, 1, 0, 1, 0, 0, 0, 0, 0, 1, 0, 0, 0], [0, 0, 0, 0, 0, 0, 0, 0, 0, 0, 0, 0, 0, 0, 0, 1, 0, 0, 1, 0, 0, 0, 1, 0, 1, 0, 1, 1, 0, 0, 0, 1, 0, 0, 0, 0, 0, 0, 0, 1, 0, 0, 1, 0, 0, 0, 0, 0, 0, 0, 0, 0, 1, 0, 0, 0, 1, 0, 0, 0, 1, 1, 0, 0, 0, 0, 0, 0, 0, 0, 0, 0, 0, 0, 0, 0, 0, 0, 0, 1, 0, 0, 1, 0, 0, 0, 0, 0, 1, 0, 0, 0, 0, 0, 0, 0, 1, 0, 0, 0, 1, 0, 1, 0, 1, 0, 0, 1, 0, 0, 0, 0, 0, 0, 0, 0, 0, 1, 0, 0, 1, 0, 0, 0, 0, 0, 0, 0, 1, 0, 0, 0, 0, 0, 1, 0, 0, 0, 1, 0, 0, 0, 0, 0, 0, 0, 0, 0, 0, 0, 0, 1, 0, 1, 1, 0, 1, 0, 0, 1, 1, 0, 0, 1, 0, 0, 0, 0, 0, 0, 0, 0, 0, 0, 0, 1, 0, 0, 0, 0, 0, 0, 0, 0, 0, 0, 0, 0, 1, 0, 0, 1, 0, 0, 0, 0, 1, 0, 0, 1, 0, 0, 0, 0, 1, 0, 1, 0, 0, 0, 0, 0, 0, 0, 0, 0, 0, 0, 1, 1, 0, 0, 0, 0, 0, 0, 0, 0, 1, 0], [0, 0, 0, 0, 1, 0, 0, 0, 0, 0, 0, 0, 0, 0, 0, 0, 1, 0, 0, 0, 0, 0, 0, 0, 0, 0, 0, 0, 0, 0, 0, 0, 0, 0, 0, 0, 1, 0, 1, 1, 0, 0, 1, 0, 0, 1, 0, 0, 0, 0, 0, 0, 0, 0, 1, 0, 0, 0, 0, 0, 1, 0, 0, 0, 0, 1, 0, 1, 0, 0, 0, 0, 0, 0, 0, 1, 0, 0, 0, 0, 0, 0, 0, 0, 1, 0, 0, 1, 0, 0, 1, 0, 0, 0, 0, 0, 0, 0, 0, 1, 0, 0, 0, 0, 1, 0, 0, 0, 0, 1, 0, 0, 1, 0, 0, 0, 0, 1, 1, 0, 0, 0, 1, 0, 0, 0, 0, 0, 0, 1, 0, 0, 0, 1, 0, 1, 0, 0, 0, 0, 0, 0, 0, 0, 0, 0, 0, 0, 0, 0, 0, 1, 0, 0, 0, 0, 0, 0, 0, 0, 1, 0, 0, 0, 0, 0, 0, 0, 1, 0, 0, 0, 1, 0, 0, 0, 0, 0, 0, 0, 1, 0, 0, 0, 0, 0, 1, 1, 0, 0, 0, 0, 0, 1, 0, 1, 1, 0, 0, 0, 0, 0, 0, 0, 1, 0, 0, 0, 1, 1, 0, 0, 0, 0, 1, 0, 1, 0, 1, 0, 0, 1, 0, 0, 0, 0, 0, 0, 0, 0]]\n"
          ]
        }
      ],
      "execution_count": 10
    },
    {
      "metadata": {
        "id": "a0abcd20f7bb7c44"
      },
      "cell_type": "markdown",
      "source": [
        "## Paso 3: Obtener una representación de una _query_ en el espacio término-documento\n",
        "Ahora vamos a representar una _query_ como un vector en el mismo espacio de términos que hicimos para el corpus."
      ],
      "id": "a0abcd20f7bb7c44"
    },
    {
      "metadata": {
        "ExecuteTime": {
          "end_time": "2024-10-22T13:01:09.239680Z",
          "start_time": "2024-10-22T13:01:09.223561Z"
        },
        "colab": {
          "base_uri": "https://localhost:8080/"
        },
        "id": "f4abdc2c22664498",
        "outputId": "495e8918-b151-40f0-c9a2-c1cc2ebc07a5"
      },
      "cell_type": "code",
      "source": [
        "query = \"inteligencia artificial en medicina\"\n",
        "print(tdtransform(query))"
      ],
      "id": "f4abdc2c22664498",
      "outputs": [
        {
          "output_type": "stream",
          "name": "stdout",
          "text": [
            "[0, 0, 0, 0, 0, 0, 0, 0, 0, 0, 0, 0, 0, 0, 0, 0, 0, 0, 0, 0, 0, 0, 0, 0, 0, 0, 0, 0, 0, 0, 0, 0, 0, 1, 0, 0, 0, 0, 0, 0, 0, 0, 0, 0, 0, 0, 0, 0, 0, 0, 0, 0, 0, 0, 0, 0, 0, 0, 0, 0, 1, 0, 0, 0, 0, 0, 0, 0, 0, 1, 0, 0, 0, 0, 0, 0, 0, 0, 0, 0, 0, 0, 0, 0, 0, 0, 0, 0, 0, 0, 0, 0, 0, 0, 0, 0, 0, 0, 0, 0, 0, 0, 0, 0, 0, 0, 0, 0, 0, 0, 0, 0, 0, 0, 0, 0, 0, 0, 0, 0, 0, 0, 0, 0, 0, 0, 0, 0, 0, 0, 0, 0, 0, 1, 0, 0, 0, 0, 0, 0, 0, 0, 0, 0, 0, 0, 0, 0, 0, 0, 0, 0, 0, 0, 0, 0, 0, 0, 0, 0, 0, 0, 0, 0, 0, 0, 0, 0, 0, 0, 0, 0, 0, 0, 0, 0, 0, 0, 0, 0, 0, 0, 0, 0, 0, 0, 0, 0, 0, 0, 0, 0, 0, 0, 0, 0, 0, 0, 0, 0, 0, 0, 0, 0, 0, 0, 0, 0, 0, 0, 0, 0, 0, 0, 0, 0, 0, 0, 0, 0, 0, 0, 0, 0, 0, 0, 0, 0, 0, 0]\n"
          ]
        }
      ],
      "execution_count": 11
    },
    {
      "metadata": {
        "id": "49b612552e0a24cb"
      },
      "cell_type": "markdown",
      "source": [
        "## Paso 4: Calcular la distancia entre la _query_ y todos los documentos del corpus\n",
        "Al obtener la distancia Jaccard entre la _query_ y cada documento del corpus, calculamos la relevancia que tiene cada documento para la _query_"
      ],
      "id": "49b612552e0a24cb"
    },
    {
      "metadata": {
        "id": "b60c6b18c45dcb83"
      },
      "cell_type": "code",
      "outputs": [],
      "execution_count": 17,
      "source": [
        "import numpy as np\n",
        "\n",
        "#Función para tokenizar la query y crear su vector\n",
        "def vectorizar_query(query, vocab):\n",
        "    query_vector = []\n",
        "    for palabra in vocab:\n",
        "        query_vector.append(1 if palabra in query.lower().split() else 0)\n",
        "    return query_vector\n",
        "\n",
        "#Función para calcular la similitud coseno entre el vector de la query y los documentos\n",
        "def similitud_coseno(vector_query, matriz_documentos):\n",
        "    resultados_similitud = []\n",
        "    vector_query = np.array(vector_query)\n",
        "\n",
        "    for doc_vector in matriz_documentos:\n",
        "        doc_vector = np.array(doc_vector)\n",
        "        cos_sim = np.dot(vector_query, doc_vector) / (np.linalg.norm(vector_query) * np.linalg.norm(doc_vector))\n",
        "        resultados_similitud.append(cos_sim)\n",
        "\n",
        "    return resultados_similitud\n",
        "\n",
        "#Procesar query\n",
        "Query = \"inteligencia artificial en finanzas\"\n",
        "vector_query = vectorizar_query(Query, vocab)\n",
        "similitudes = similitud_coseno(vector_query, tdmatrix)\n",
        "\n",
        "\n"
      ],
      "id": "b60c6b18c45dcb83"
    },
    {
      "metadata": {
        "id": "3173b4cbd523e996"
      },
      "cell_type": "markdown",
      "source": [
        "## Paso 5: Entregar los resultados de la búsqueda al usuario\n",
        "A partir de la _query_, debemos indicar al usuario cuáles documentos son los más relevantes. Se debe presentar la información en orden de relevancia."
      ],
      "id": "3173b4cbd523e996"
    },
    {
      "metadata": {
        "colab": {
          "base_uri": "https://localhost:8080/"
        },
        "id": "a42b03b1bb879635",
        "outputId": "31bdcae6-8a33-40cc-f7c5-73ec971c07d5"
      },
      "cell_type": "code",
      "outputs": [
        {
          "output_type": "stream",
          "name": "stdout",
          "text": [
            "Documento 0: Similitud coseno = 0.29488391230979427\n",
            "Documento 5: Similitud coseno = 0.23145502494313785\n",
            "Documento 1: Similitud coseno = 0.22613350843332272\n",
            "Documento 2: Similitud coseno = 0.07715167498104596\n",
            "Documento 7: Similitud coseno = 0.07715167498104596\n",
            "Documento 6: Similitud coseno = 0.07624928516630233\n",
            "Documento 3: Similitud coseno = 0.0\n",
            "Documento 4: Similitud coseno = 0.0\n"
          ]
        }
      ],
      "execution_count": 18,
      "source": [
        "#Mostrar resultados ordenados por la relevancia del coumento segun la query\n",
        "resultados_ordenados = sorted(enumerate(similitudes), key=lambda x: x[1], reverse=True)\n",
        "for idx, similitud in resultados_ordenados:\n",
        "    print(f\"Documento {idx}: Similitud coseno = {similitud}\")"
      ],
      "id": "a42b03b1bb879635"
    }
  ],
  "metadata": {
    "kernelspec": {
      "display_name": "Python 3",
      "language": "python",
      "name": "python3"
    },
    "language_info": {
      "codemirror_mode": {
        "name": "ipython",
        "version": 2
      },
      "file_extension": ".py",
      "mimetype": "text/x-python",
      "name": "python",
      "nbconvert_exporter": "python",
      "pygments_lexer": "ipython2",
      "version": "2.7.6"
    },
    "colab": {
      "provenance": []
    }
  },
  "nbformat": 4,
  "nbformat_minor": 5
}